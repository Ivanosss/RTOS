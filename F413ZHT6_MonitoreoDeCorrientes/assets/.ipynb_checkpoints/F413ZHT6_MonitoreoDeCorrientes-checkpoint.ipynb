{
 "cells": [
  {
   "cell_type": "markdown",
   "id": "VtECoCggrYR4",
   "metadata": {
    "id": "VtECoCggrYR4"
   },
   "source": [
    "| Project name   |  Monitoreo de corrientes |\n",
    "|:----------|:-------------|\n",
    "| **Autor(S)**| 32438, Ximena Lizeth González Plascencia<br>27814, Ivannia Gomez Moreno<br> 27808, Jorge Naoto Matsumoto Llanes |\n",
    "| **Editor**|Dr. Adán Hirales Carbajal|\n",
    "| **Last update** | 11/sept/22 13:16 |"
   ]
  },
  {
   "cell_type": "markdown",
   "id": "GDvJAZxvrYSK",
   "metadata": {
    "id": "GDvJAZxvrYSK"
   },
   "source": [
    "### <span style=\"color:blue\">Problem statement</span>\n",
    "\n",
    "Implement a tool that is able to administrate sensors to allow the monitoring and gathering of data, which includes movement of waves in the ocean, specifically rip currents. This helps in the establishment of measurements that are crucial in search and rescue operations.\n",
    "\n",
    "An example of the utility of the gathering  of this information is the implementation of a database, where the data collected of the movement of waves can be correlated to the seasons, thus preventing accidents in the shore. Speaking outside the range of this project, this information may be useful to handle natural disasters and other engineering projects in the shore.\n",
    "\n",
    "The software solution consists in two sections: a device that is able to detect the movement of waves and another device that receives this information in the shore. The former periodically reads the movement of waves and transmits the information to the latter, so that the data is able to be processed and analyzed Thus, this involves two tasks: the detection of waves and the connection betwen devices. \n"
   ]
  },
  {
   "cell_type": "markdown",
   "id": "FHu4mtS7rYSN",
   "metadata": {
    "id": "FHu4mtS7rYSN"
   },
   "source": [
    "### <span style=\"color:blue\">Hardware requirements</span>\n",
    "\n",
    "\n",
    "|Component|Quantity|Characteristics|Component|\n",
    "|:---|:---|:-----|:---:|\n",
    "|STM32F413ZHT6|1| Development board|<img src=\"../img/stm32f413zht6.jpg\" alt=\"SIPO\" width=\"150\" eight=\"150\">|\n",
    "|Raspberry Pi 4|1|  Single Board Computer, Raspberry Pi 4 Model B, BCM2711 SoC, <br>4GB DDR4 RAM, USB 3.0, PoE Enabled. |<img src=\"../img/raspberry pi.webp\" alt=\"SIPO\" width=\"150\" eight=\"150\">|\n",
    "|REYAX RYLR896|2|Tranceiver module that provides LoRa connectivity with an <br>AT-command Serial interface to the host microcontroller.|<img src=\"../img/rylr.jpg\" alt=\"PISO\" width=\"100\" height=\"100\">|\n"
   ]
  },
  {
   "cell_type": "markdown",
   "id": "l3L59qlWrYSR",
   "metadata": {
    "id": "l3L59qlWrYSR"
   },
   "source": [
    "### <span style=\"color:blue\">Hardware schematic</span>\n",
    "\n",
    "<center>\n",
    "<img class=\"large-image\" width=\"350\" height=\"350\" src=\"../img/hardware_schematic.PNG\" />\n",
    "</center>\n",
    "\n",
    "<!-- ![](https://drive.google.com/uc?export=view&id=1SnStCi-9NgLr55ifJMSMNIZKoo6Zwz67) -->"
   ]
  },
  {
   "cell_type": "markdown",
   "id": "jpuqjeH4rYSS",
   "metadata": {
    "id": "jpuqjeH4rYSS"
   },
   "source": [
    "### <span style=\"color:blue\">Hardware layout</span>\n",
    "\n",
    "| | |\n",
    "|:--:|:--:|\n",
    "|<img class=\"large-image\" width=\"40\" height=\"40\" src=\"img_shift_register/circuit/installed.png\" alt=\"Installed hardware\"/>|<img class=\"large-image\" width=\"40\" height=\"40\" src=\"img_shift_register/circuit/stm32_connections.jpg\" alt=\"Connection to board\"/>|\n",
    "|Installed hardware |Connection to board|\n",
    "|<img class=\"large-image\" width=\"40\" height=\"40\" src=\"img_shift_register/circuit/pa3_marked.png\" alt=\"Installed hardware\"/>|<img class=\"large-image\" width=\"40\" height=\"40\" src=\"img_shift_register/circuit/pc0_marked.png\" alt=\"Connection to board\"/>|\n",
    "|Read data to STM32. Pin PA3 connection |Clock signal. Pin PC0 connection|\n",
    "|<img class=\"large-image\" width=\"40\" height=\"40\" src=\"img_shift_register/circuit/pc3_marked.png\" alt=\"Installed hardware\"/>|<img class=\"large-image\" width=\"40\" height=\"40\" src=\"img_shift_register/circuit/pf3_marked.png\" alt=\"Connection to board\"/>|\n",
    "|PC3: Choose between parallel and serial mode. Pin PC3 connection|Send serial data from STM32 to IC|\n",
    "\n"
   ]
  },
  {
   "cell_type": "markdown",
   "id": "fqEH0PPdrYSU",
   "metadata": {
    "id": "fqEH0PPdrYSU"
   },
   "source": [
    "### <span style=\"color:blue\">CubeMX parameters</span>\n",
    "\n",
    "<style type=\"text/css\">\n",
    ".tg  {border-collapse:collapse;border-spacing:0;border-color:#999;}\n",
    ".tg td{font-family:Arial, sans-serif;font-size:14px;padding:10px 5px;border-style:solid;border-width:0px;overflow:hidden;word-break:normal;border-color:#999;color:#444;background-color:#F7FDFA;}\n",
    ".tg th{font-family:Arial, sans-serif;font-size:14px;font-weight:normal;padding:10px 5px;border-style:solid;border-width:0px;overflow:hidden;word-break:normal;border-color:#999;color:#fff;background-color:#26ADE4;}\n",
    ".tg .tg-c3ow{border-color:inherit;text-align:left;vertical-align:top}\n",
    ".tg .tg-fymr{font-weight:bold;border-color:inherit;text-align:center;vertical-align:top}\n",
    ".tg .tg-0pky{border-color:inherit;text-align:left;vertical-align:top}\n",
    ".tg .tg-7btt{font-weight:bold;border-color:inherit;text-align:center;vertical-align:top}\n",
    "</style>\n",
    "<table class=\"tg\">\n",
    "  <caption>Table III. Project specification</caption>\n",
    "  <tr>\n",
    "    <th class=\"tg-fymr\" colspan=\"2\">Class</th>\n",
    "    <th class=\"tg-fymr\" colspan=\"2\">Attribute</th>\n",
    "    <th class=\"tg-fymr\" colspan=\"3\">Value</th>\n",
    "  </tr>\n",
    "  <tr>\n",
    "    <td class=\"tg-c3ow\" colspan=\"2\"><b>Project</b></td>\n",
    "    <td class=\"tg-c3ow\" colspan=\"2\">Name</td>\n",
    "    <td class=\"tg-c3ow\" colspan=\"3\">F767ZIV1_IntS1</td>\n",
    "  </tr>\n",
    "  <tr>\n",
    "    <td class=\"tg-c3ow\" colspan=\"2\"></td>\n",
    "    <td class=\"tg-c3ow\" colspan=\"2\">Clock</td>\n",
    "    <td class=\"tg-c3ow\" colspan=\"3\">16Mhz</td>\n",
    "  </tr>\n",
    "  <tr>\n",
    "    <td class=\"tg-c3ow\" colspan=\"2\"></td>\n",
    "    <td class=\"tg-c3ow\" colspan=\"2\">Timebase source</td>\n",
    "    <td class=\"tg-c3ow\" colspan=\"3\">TM1</td>\n",
    "  </tr>\n",
    "  <tr>\n",
    "    <td class=\"tg-c3ow\" colspan=\"2\"><b>STM32 Pins</b></td>\n",
    "      <td class=\"tg-c3ow\" colspan=\"2\"><span style=\"color:red\">PB12, PB13, PD9, PD8, <br> PA3, PA13, PA14, PB8 and PB9\n",
    "</span> </td>\n",
    "    <td class=\"tg-c3ow\" colspan=\"3\"><span style=\"color:red\">Set PB12 to UART5_RX <br> Set PB13 to UART5_TX <br> Set PD9 to USART3_RX <br> Set PD8 to USART3_TX <br> Set PA3 to ADC1_INE3 <br> Set PA13 to SYS_JTM-SWDIO <br> Set PA14 to SYS_JTCK-SWCLCK <br> Set PB9 to RYLR_Output <br> Set PB8 to RYLR_Input</span></td>\n",
    "    \n",
    "  </tr>\n",
    "  <tr>\n",
    "    <td class=\"tg-c3ow\" colspan=\"2\"><b>FreeRTOS</b></td>\n",
    "    <td class=\"tg-c3ow\" colspan=\"2\">API</td>\n",
    "    <td class=\"tg-c3ow\" colspan=\"3\">CMSIS v1</td>\n",
    "  </tr>\n",
    " <tr>\n",
    "    <td class=\"tg-fymr\"><b>Task/interrupt</b></td>\n",
    "    <td class=\"tg-fymr\"><b>Type</b></td>\n",
    "    <td class=\"tg-fymr\"><b>Name</b></td>\n",
    "    <td class=\"tg-fymr\"><b>Entry function</b></td>\n",
    "    <td class=\"tg-fymr\"><b>w_j</b></td>\n",
    "    <td class=\"tg-fymr\"><b>p_j</b></td>\n",
    "    <td class=\"tg-fymr\"><b>Port</b></td>\n",
    "  </tr>\n",
    "  <tr>\n",
    "      <td class=\"tg-fymr\">1</td>\n",
    "      <td class=\"tg-fymr\">Default</td>\n",
    "      <td class=\"tg-fymr\">defaultTask</td>\n",
    "      <td class=\"tg-fymr\"><span style=\"color:red\">StartDesafultTask</span></td>\n",
    "      <td class=\"tg-fymr\">osPriorityNormal</td>\n",
    "      <td class=\"tg-fymr\"></td>\n",
    "      <td class=\"tg-fymr\">PC13</td>\n",
    "    </tr>\n",
    " \n",
    "</table>\n"
   ]
  },
  {
   "cell_type": "markdown",
   "id": "b709dd84",
   "metadata": {},
   "source": [
    "### <span style=\"color:blue\">Conceptual Static Model</span>\n",
    "\n",
    "<center>\n",
    "<img class=\"large-image\" width=\"600\" height=\"600\" src=\"../img/conceptual-static-model.png\" />\n",
    "</center>"
   ]
  },
  {
   "cell_type": "markdown",
   "id": "66310e72",
   "metadata": {},
   "source": [
    "### <span style=\"color:blue\">Communication Diagram</span>\n",
    "\n",
    "<center>\n",
    "<img class=\"large-image\" width=\"450\" height=\"450\" src=\"../img/communication-diagram.jpeg\" />\n",
    "</center>"
   ]
  },
  {
   "cell_type": "markdown",
   "id": "uCRuYt0mrYSZ",
   "metadata": {
    "id": "uCRuYt0mrYSZ"
   },
   "source": [
    "### <span style=\"color:blue\">Software components</span>"
   ]
  },
  {
   "cell_type": "markdown",
   "id": "VY8GUZ7FrYSa",
   "metadata": {
    "id": "VY8GUZ7FrYSa"
   },
   "source": [
    "#### Setting up the pins\n",
    "\n",
    "The function \"MX_GPIO_Init\" enables and sets all needed pins to an initially deasserted state, so that they can be used in the rest of the program.\n",
    "\n",
    "```\n",
    "C\n",
    "static void MX_GPIO_Init(void)\n",
    "{\n",
    "  GPIO_InitTypeDef GPIO_InitStruct = {0};\n",
    "\n",
    "  /* GPIO Ports Clock Enable */\n",
    "  __HAL_RCC_GPIOC_CLK_ENABLE();\n",
    "  __HAL_RCC_GPIOF_CLK_ENABLE();\n",
    "  __HAL_RCC_GPIOH_CLK_ENABLE();\n",
    "  __HAL_RCC_GPIOA_CLK_ENABLE();\n",
    "  __HAL_RCC_GPIOB_CLK_ENABLE();\n",
    "  __HAL_RCC_GPIOD_CLK_ENABLE();\n",
    "  __HAL_RCC_GPIOG_CLK_ENABLE();\n",
    "\n",
    "  /*Configure GPIO pin Output Level */\n",
    "  HAL_GPIO_WritePin(GPIOF, GPIO_PIN_3|GPIO_PIN_5, GPIO_PIN_RESET);\n",
    "\n",
    "  /*Configure GPIO pin Output Level */\n",
    "  HAL_GPIO_WritePin(GPIOC, GPIO_PIN_0|GPIO_PIN_3, GPIO_PIN_RESET);\n",
    "\n",
    "  /*Configure GPIO pins : PF3 PF5 PF10 */\n",
    "  GPIO_InitStruct.Pin = GPIO_PIN_3|GPIO_PIN_5|GPIO_PIN_10;\n",
    "  GPIO_InitStruct.Mode = GPIO_MODE_OUTPUT_PP;\n",
    "  GPIO_InitStruct.Pull = GPIO_NOPULL;\n",
    "  GPIO_InitStruct.Speed = GPIO_SPEED_FREQ_LOW;\n",
    "  HAL_GPIO_Init(GPIOF, &GPIO_InitStruct);\n",
    "\n",
    "  /*Configure GPIO pins : PC0 PC3 */\n",
    "  GPIO_InitStruct.Pin = GPIO_PIN_0|GPIO_PIN_3;\n",
    "  GPIO_InitStruct.Mode = GPIO_MODE_OUTPUT_PP;\n",
    "  GPIO_InitStruct.Pull = GPIO_NOPULL;\n",
    "  GPIO_InitStruct.Speed = GPIO_SPEED_FREQ_LOW;\n",
    "  HAL_GPIO_Init(GPIOC, &GPIO_InitStruct);\n",
    "\n",
    "  /*Configure GPIO pin : PA3 */\n",
    "  GPIO_InitStruct.Pin = GPIO_PIN_3;\n",
    "  GPIO_InitStruct.Mode = GPIO_MODE_INPUT;\n",
    "  GPIO_InitStruct.Pull = GPIO_NOPULL;\n",
    "  HAL_GPIO_Init(GPIOA, &GPIO_InitStruct);\n",
    "\n",
    "}\n",
    "```"
   ]
  },
  {
   "cell_type": "markdown",
   "id": "HVo-JhNwrYSc",
   "metadata": {
    "id": "HVo-JhNwrYSc"
   },
   "source": [
    "\n",
    "#### Creating the message queue\n",
    "\n",
    "This code creates our <i>message</i> data type, which stores 8 bits of data, one per input read. These messages are then put in the queue created by the function ```StartQueue```, from where they can later be retrieved and sent serially to the shift register that will use them.\n",
    "\n",
    "```\n",
    "#define MSGQUEUE_OBJECTS 16\n",
    "\n",
    "typedef struct {\n",
    "  uint8_t flags;\n",
    "} MSGQUEUE_OBJ_t;\n",
    "\n",
    "osMessageQueueId_t mid_MsgQueue;\n",
    "\n",
    "void StartQueue(void)\n",
    "{\n",
    "  mid_MsgQueue = osMessageQueueNew(MSGQUEUE_OBJECTS, sizeof(MSGQUEUE_OBJ_t), NULL);\n",
    "  osDelay(osWaitForever);\n",
    "  while (1)\n",
    "    ;\n",
    "}\n",
    "```\n"
   ]
  },
  {
   "cell_type": "markdown",
   "id": "GBl0cqberYSe",
   "metadata": {
    "id": "GBl0cqberYSe"
   },
   "source": [
    "#### Reading from C4014BE Parallel input / serial output shift register\n",
    "\n",
    "The following code signals the PISO shift register to sample all 8 inputs and send them serially to pin PA3, where they are read and stored in our previously declared <i>message queue</i>. If this queue is full, the function will keep trying to store the same message until successful, yielding control as requested by the RTOS.\n",
    "\n",
    "This function has <b>normal priority</b>, which means that it is at the same priority level as our <i>write</i> function.\n",
    "\n",
    "```\n",
    "void StartRead(void *argument)\n",
    "{\n",
    "  /* VARIABLE DECLARATION */\n",
    "  uint8_t tmp_reading = 0;\n",
    "\n",
    "  /* Infinite loop */\n",
    "  for(;;)\n",
    "  {\n",
    "\n",
    "    MSGQUEUE_OBJ_t msg;\n",
    "    /* P/S Control HIGH to read from parallel inputs */\n",
    "    HAL_GPIO_WritePin(GPIOC, GPIO_PIN_3, GPIO_PIN_SET);\n",
    "    osDelay(10);\n",
    "\n",
    "    /* Read from inputs */\n",
    "    HAL_GPIO_WritePin(GPIOC, GPIO_PIN_0, GPIO_PIN_SET);\n",
    "    osDelay(10);\n",
    "\n",
    "    /* Reset pins to start serial transmission */\n",
    "    HAL_GPIO_WritePin(GPIOC, GPIO_PIN_0|GPIO_PIN_3, GPIO_PIN_RESET);\n",
    "\n",
    "    /* Read all 8 inputs */\n",
    "    for(int i = 0; i < 8; i++) {\n",
    "      /* Shift msg to prepare for reading */\n",
    "      msg.flags <<= 1;\n",
    "\n",
    "      /* HAL_GPIO_WritePin(GPIOB, LD3_Pin, GPIO_PIN_SET); */\n",
    "      /* Set the message content */\n",
    "      tmp_reading = HAL_GPIO_ReadPin(GPIOA, GPIO_PIN_3);\n",
    "      msg.flags |= tmp_reading;\n",
    "\n",
    "\n",
    "      /* Shift to next input */\n",
    "      HAL_GPIO_WritePin(GPIOC, GPIO_PIN_0, GPIO_PIN_SET);\n",
    "      osDelay(50);\n",
    "      HAL_GPIO_WritePin(GPIOC, GPIO_PIN_0, GPIO_PIN_RESET);\n",
    "      osDelay(50);\n",
    "    }\n",
    "\n",
    "    /* Send message to queue. Wait forever, retrying, if queue is full */\n",
    "    /* HAL_GPIO_WritePin(GPIOB, LD3_Pin, GPIO_PIN_SET); */\n",
    "    osMessageQueuePut(mid_MsgQueue, &msg, 0U, osWaitForever);\n",
    "    /* HAL_GPIO_WritePin(GPIOB, LD3_Pin, GPIO_PIN_RESET); */\n",
    "\n",
    "    osDelay(1000);\n",
    "  }\n",
    "}\n",
    "```"
   ]
  },
  {
   "cell_type": "markdown",
   "id": "6GjjzgnJrYSg",
   "metadata": {
    "id": "6GjjzgnJrYSg"
   },
   "source": [
    "#### Writing to SN54HC595 Serial input / parallel output shift register\n",
    "\n",
    "The function ```StartWrite``` remains idle while the <i>message queue</i> is empty. Once it receives a message, it is able to fetch it and examine it. If all is Ok, it serially shifts all 8 bits from the read message to the SIPO shift register. Once this is done, it signals the register to send all at once the stored bits to their respective output.\n",
    "\n",
    "This function has <b>normal priority</b>, which means that it is at the same priority level as our <i>read</i> function.\n",
    "\n",
    "```\n",
    "void StartWrite(void *argument)\n",
    "{\n",
    "  /* VARIABLE DECLARATION */\n",
    "  osStatus_t status;\n",
    "  MSGQUEUE_OBJ_t msg;\n",
    "\n",
    "  /* Infinite loop */\n",
    "  for(;;)\n",
    "  {\n",
    "    /* Wait until message is available */\n",
    "    status = osMessageQueueGet(mid_MsgQueue, &msg, NULL, osWaitForever);\n",
    "\n",
    "    /* Validate message */\n",
    "    if (status == osOK) {\n",
    "\n",
    "      /* Load data into shift register */\n",
    "      for(int i = 0; i < 8; i++) {\n",
    "        /* Send bit from microcontroller*/\n",
    "        if (msg.flags & 1)\n",
    "          HAL_GPIO_WritePin(GPIOF, GPIO_PIN_3, GPIO_PIN_SET);\n",
    "        else\n",
    "          HAL_GPIO_WritePin(GPIOF, GPIO_PIN_3, GPIO_PIN_RESET);\n",
    "\n",
    "        osDelay(20);\n",
    "\n",
    "        /* Store received bit */\n",
    "        HAL_GPIO_WritePin(GPIOF, GPIO_PIN_10, GPIO_PIN_SET);\n",
    "        osDelay(20);\n",
    "        HAL_GPIO_WritePin(GPIOF, GPIO_PIN_10, GPIO_PIN_RESET);\n",
    "\n",
    "        /* Shift to next bit */\n",
    "        msg.flags >>= 1;\n",
    "      }\n",
    "      /* Write stored data to shift register output */\n",
    "        HAL_GPIO_WritePin(GPIOF, GPIO_PIN_5, GPIO_PIN_SET);\n",
    "        osDelay(1);\n",
    "        HAL_GPIO_WritePin(GPIOF, GPIO_PIN_5, GPIO_PIN_RESET);\n",
    "    }\n",
    "  }\n",
    "}\n",
    "```"
   ]
  },
  {
   "cell_type": "markdown",
   "id": "4bdd9388",
   "metadata": {},
   "source": [
    "### <span style=\"color:blue\">References</span>\n",
    "\n",
    "REYAX. (2021). *RYLR89. UART Interface 868/915MHz LoRa® Antenna Transceiver Module Datasheet.* https://drive.google.com/file/d/1zzNvf_Y6WWmdq7PhkajRj_tkiddXmK2j/view?usp=sharing\n",
    "\n",
    "STMicroelectronics. (2020). *UM1974 User manual. STM32 Nucleo-144 boards (MB1137)* https://drive.google.com/file/d/1S6hjZu_6k5-xtig2-4RWoy4vuPnUV0gj/view?usp=sharing\n",
    "\n",
    "TT Electronic. (2019). *Rotary Potentiometer P160 Series* https://drive.google.com/file/d/1safhZWP4hK1Ilp4WD5VxY0KaoLWx3ulT/view?usp=sharing"
   ]
  }
 ],
 "metadata": {
  "colab": {
   "collapsed_sections": [],
   "provenance": []
  },
  "kernelspec": {
   "display_name": "Python 3 (ipykernel)",
   "language": "python",
   "name": "python3"
  },
  "language_info": {
   "codemirror_mode": {
    "name": "ipython",
    "version": 3
   },
   "file_extension": ".py",
   "mimetype": "text/x-python",
   "name": "python",
   "nbconvert_exporter": "python",
   "pygments_lexer": "ipython3",
   "version": "3.9.12"
  }
 },
 "nbformat": 4,
 "nbformat_minor": 5
}
