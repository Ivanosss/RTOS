{
 "cells": [
  {
   "cell_type": "markdown",
   "id": "8dde67aa",
   "metadata": {
    "id": "VtECoCggrYR4"
   },
   "source": [
    "| Nombre del Proyecto  |  F413ZH_ReguladorTemperatura |\n",
    "|:----------|:-------------|\n",
    "| **Autores(S)**| 33293, Daniel Agraz Vallejo<br>28241, Michelle Andrea Muñiz Lopez<br> 33892, Stephanie Gonzalez |\n",
    "| **Ultima Actualizacion** |  07 de octubre de 2022 | "
   ]
  },
  {
   "cell_type": "markdown",
   "id": "30c4dfc1",
   "metadata": {},
   "source": [
    "<center>\n",
    "<img src=\"img/Logo.jpg\" alt=\"Logo\">\n",
    "</center>"
   ]
  },
  {
   "cell_type": "markdown",
   "id": "90154f54",
   "metadata": {
    "id": "GDvJAZxvrYSK"
   },
   "source": [
    "### <span style=\"color:blue\">Planteamiento del problema</span>\n",
    "\n",
    "Para este proyecto se busca realizar un sistema que permita identificar la temperatura de un lugar determinado (en este caso una caja) mediante un sensor se temperatura y de acuerdo a un rango de grados que se indicara, un ventilador se prenda o se apague dependiendo si la caja se calienta o caso contrario. Esto con la finalidad de simular un salon de clases que cuenta con aire acondicionado. Se busca la optimización de este sistema, que a su vez, también aporta a la reducción del uso de energía innecesaria, ya que una vez que se calienta y el aire se enciende, eventualmente el salon llegara a una temperatura más alta y ya no estará caliente. Sin embargo, llegara un punto en el que el salon se vuelva a calentar y el proceso se repetirá constantemente mientras se encuentre encendido. Esta problemática es la que se busca resolver con nuestro sistema.\n"
   ]
  },
  {
   "cell_type": "markdown",
   "id": "7bde734a",
   "metadata": {
    "id": "FHu4mtS7rYSN"
   },
   "source": [
    "### <span style=\"color:blue\">Requerimientos de Hardware</span>\n",
    "\n",
    "\n",
    "|Componente|Cantidad|Características|Imagen|\n",
    "|:---|:---|:-----|:---:|\n",
    "|STM32 F413ZHT6|1| Microncontrolador de Núcleo-144|<img src=\"../img/STM32HAL.jpeg\" alt=\"MCU\" width=\"150\" eight=\"150\">|\n",
    "|ATWINC1500 |1| Módulo de Comunicación<br> |<img src=\"../img/ATWINC1500.jpeg\" alt=\"Módulo de Comunicación AdaFruit\" width=\"150\" eight=\"150\">|\n",
    "|Cables Macho|13| Alambres de conexión| <img src=\"../img/CablesMacho.jpeg\"  alt=\"Cables Macho\" width=\"150\" eight=\"150\">\n",
    "|Sensor LM35|4| Sensor de Temperatura| <img src=\"../img/LM35.jpg\" alt=\"Sensor de Temperatura\" width=\"150\">\n",
    "|Breadboard MB-102|1|Placa de pruebas| <img src=\"../img/Breadboard.jpeg\" alt=\"Breadboard\" width=\"150\">\n",
    "\n",
    "\n",
    "\n"
   ]
  },
  {
   "cell_type": "markdown",
   "id": "b5c90f69",
   "metadata": {},
   "source": [
    "### <span style=\"color:blue\">Implementacion de la Arquitectura</span>\n",
    "\n",
    "<center>\n",
    "<img src=\"../img/Regulador_fisico.jpeg\" alt=\"Esquemático\" width=\"300\" eight=\"300\">\n",
    "</center>\n"
   ]
  },
  {
   "cell_type": "markdown",
   "id": "e46530cc",
   "metadata": {
    "id": "l3L59qlWrYSR"
   },
   "source": [
    "### <span style=\"color:blue\">Esquema Hardware</span>\n",
    "\n",
    "<center>\n",
    "<img src=\"../img/Esquematico_2.jpg\" alt=\"Esquemático\">\n",
    "</center>"
   ]
  },
  {
   "cell_type": "markdown",
   "id": "aa480996",
   "metadata": {},
   "source": [
    "### <span style=\"color:blue\">Codigo | main.c</span>\n"
   ]
  },
  {
   "cell_type": "code",
   "execution_count": null,
   "id": "8e1c6d16",
   "metadata": {},
   "outputs": [],
   "source": [
    "/* Private user code ---------------------------------------------------------*/\n",
    "\n",
    "/* USER CODE BEGIN 0 */\n",
    "\n",
    "void send_taskOne (void)\n",
    "{\n",
    "\tuint8_t data[] = \"Reading Sensor from Task1\\r\\n\";\n",
    "\tHAL_UART_Transmit(&huart3, data, sizeof(data), 500);\n",
    "}\n",
    "\n",
    "void send_taskTwo (void)\n",
    "{\n",
    "\tuint8_t data[] = \"Reading Sensor from Task2\\r\\n\";\n",
    "\tHAL_UART_Transmit(&huart3, data, sizeof(data), 500);\n",
    "}\n",
    "\n",
    "void ADC_Select_CH3(void)\n",
    "{\n",
    "\tADC_ChannelConfTypeDef sConfig = {0};\n",
    "\tsConfig.Channel = ADC_CHANNEL_3;\n",
    "\tsConfig.Rank = 1;\n",
    "\tsConfig.SamplingTime = ADC_SAMPLETIME_3CYCLES;\n",
    "\tif (HAL_ADC_ConfigChannel(&hadc1, &sConfig) != HAL_OK)\n",
    "\t  {\n",
    "\t    Error_Handler();\n",
    "\t  }\n",
    "}\n",
    "\n",
    "void ADC_Select_CH10(void)\n",
    "{\n",
    "\tADC_ChannelConfTypeDef sConfig = {0};\n",
    "\tsConfig.Channel = ADC_CHANNEL_10;\n",
    "\tsConfig.Rank = 1;\n",
    "\tsConfig.SamplingTime = ADC_SAMPLETIME_3CYCLES;\n",
    "\tif (HAL_ADC_ConfigChannel(&hadc1, &sConfig) != HAL_OK)\n",
    "\t  {\n",
    "\t    Error_Handler();\n",
    "\t  }\n",
    "}\n",
    "/* USER CODE END 0 */\n",
    "\n",
    "/* USER CODE END Header_StartTask1 */\n",
    "void StartTask1(void *argument)\n",
    "{\n",
    "  /* USER CODE BEGIN 5 */\n",
    "\tuint16_t raw;\n",
    "\tchar msg[10];\n",
    "\tchar hello[] = \"Temperature from Sensor 1: \\r\";\n",
    "\n",
    "  /* Infinite loop */\n",
    "  for(;;)\n",
    "  {\n",
    "\t  do{\n",
    "\t  send_taskOne();\n",
    "\t  ADC_Select_CH3();\n",
    "\t  HAL_ADC_Start(&hadc1);\n",
    "\t  HAL_ADC_PollForConversion(&hadc1, HAL_MAX_DELAY);\n",
    "\t  raw = HAL_ADC_GetValue(&hadc1);\n",
    "\t  uint16_t temp = raw/14;\n",
    "\n",
    "\t  printf(hello,\"c\");\n",
    "\t  HAL_UART_Transmit(&huart3, (uint8_t*)hello, strlen(hello), HAL_MAX_DELAY);\n",
    "\n",
    "\t  sprintf(msg,\"%hu\\r\\n\\n\",temp);\n",
    "\t  HAL_UART_Transmit(&huart3, (uint8_t*)msg, strlen(msg), HAL_MAX_DELAY);\n",
    "\n",
    "\t  HAL_ADC_Stop(&hadc1);\n",
    "\t  osDelay(3000);} while(raw != HAL_OK);\n",
    "\t  \n",
    "  }\n",
    "  /* USER CODE END 5 */\n",
    "}\n",
    "\n",
    "/* USER CODE END Header_StartTask2 */\n",
    "void StartTask2(void *argument)\n",
    "{\n",
    "  /* USER CODE BEGIN StartTask2 */\n",
    "\tuint16_t raw;\n",
    "\tchar msg[10];\n",
    "\tchar hello[] = \"Temperature from sensor 2: \\r\\n\";\n",
    "\n",
    "  /* Infinite loop */\n",
    "  for(;;)\n",
    "  {\n",
    "    do{\n",
    "\tsend_taskTwo();\n",
    "\tADC_Select_CH10();\n",
    "\tHAL_ADC_Start(&hadc1);\n",
    "\tHAL_ADC_PollForConversion(&hadc1, HAL_MAX_DELAY);\n",
    "\traw = HAL_ADC_GetValue(&hadc1);\n",
    "\tuint16_t temp = raw/14;\n",
    "\n",
    "\tHAL_UART_Transmit(&huart3, (uint8_t*)hello, sizeof(hello), HAL_MAX_DELAY);\n",
    "\tsprintf(msg,\"%hu\\r\\n\\n\",temp);\n",
    "\n",
    "\tHAL_UART_Transmit(&huart3, (uint8_t*)msg, strlen(msg), HAL_MAX_DELAY);\n",
    "\n",
    "\tHAL_ADC_Stop(&hadc1);\n",
    "\tosDelay(3000);} while(hello != HAL_OK);\n",
    "\n",
    "\t/*HAL_UART_Transmit(&huart3, (uint8_t*)hello, sizeof(hello), HAL_MAX_DELAY);\n",
    "    HAL_Delay(1000);*/\n",
    "\n",
    "  }\n",
    "  /* USER CODE END StartTask2 */\n",
    "}"
   ]
  },
  {
   "cell_type": "markdown",
   "id": "787d6fe3",
   "metadata": {},
   "source": [
    "### <span style=\"color:blue\">Modelo Estático</span>\n",
    "<img src=\"../img/ModeloEstático.png\"  alt=\"Modelo Estático\" width=\"500\" eight=\"500\">\n"
   ]
  },
  {
   "cell_type": "markdown",
   "id": "5be7c4b6",
   "metadata": {},
   "source": [
    "### <span style=\"color:blue\">Modelo Dinámico</span>\n",
    "<img src=\"../img/ModeloDinámico.png\"  alt=\"Modelo Dinamico\" width=\"500\" eight=\"500\">"
   ]
  },
  {
   "cell_type": "markdown",
   "id": "6720f645",
   "metadata": {},
   "source": [
    "### <span style=\"color:blue\">MX Project Configuration</span>\n",
    "|Class|Attribute|Value|\n",
    "|:---|:---|:---:|\n",
    "|<b>Project</b>|Name|F413ZHT6_ReguladorTemperaturaTXRX|\n",
    "||Clock|16Mhz|\n",
    "||Timebase Source|TIM1\n",
    "|<b>STM32 Pins</b>|PC0|Set PC0 to ADC1_IN10|\n",
    "||PA3|Set PA3 to ADC1_IN3|\n",
    "||PD8|Set PD8 to USART3_TX|\n",
    "||PD9|Set PD9 to USART3_RX|\n",
    "||PA13|Set PA13 to SYS_JTMS-SWDIO|\n",
    "||PA14|Set PA14 to SYS_JTCK-SWCLK|\n",
    "|<b>ADC1</b>|Mode|IN3, IN10|\n",
    "|Parameter Settings|Continuous Conversion Mode|Enabled|\n",
    "|<b>USART3</b>|Mode|Asynchronous|\n",
    "|Basic Parameters|Baud Rate| 115200 Bits/s|\n",
    "||Word Length|8 Bits|\n",
    "||Parity|None|\n",
    "||Stop Bits|1|\n",
    "|<b>FreeRTOS</b>| API | CMSIS v2|"
   ]
  },
  {
   "cell_type": "markdown",
   "id": "b52a28b5",
   "metadata": {},
   "source": [
    "|Task/Interrupt|Type|Name|Entry Function| $w_{j}$ | Port |\n",
    "|:---|:---|:---:|:---|:---|:---|\n",
    "|1|Persistent|ReadSensor1|StartTask1|osPriority Normal|PA3\n",
    "|2|Persistent|ReadSensor2|StartTask2|osPriority Normal|PC0"
   ]
  },
  {
   "cell_type": "markdown",
   "id": "72b9e24e",
   "metadata": {},
   "source": [
    "### <span style=\"color:blue\">Referencias</span>\n",
    "\n",
    "Lady Ada. (2021). Adafruit ATWINC1500 Wifi Breakout. Adafruit Industries. \n",
    "\n",
    "Anonimo. (2020). UM1974 User manueal. ST life.augmented. "
   ]
  }
 ],
 "metadata": {
  "colab": {
   "collapsed_sections": [],
   "provenance": []
  },
  "kernelspec": {
   "display_name": "Python 3 (ipykernel)",
   "language": "python",
   "name": "python3"
  },
  "language_info": {
   "codemirror_mode": {
    "name": "ipython",
    "version": 3
   },
   "file_extension": ".py",
   "mimetype": "text/x-python",
   "name": "python",
   "nbconvert_exporter": "python",
   "pygments_lexer": "ipython3",
   "version": "3.9.7"
  }
 },
 "nbformat": 4,
 "nbformat_minor": 5
}
